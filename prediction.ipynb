{
  "nbformat": 4,
  "nbformat_minor": 0,
  "metadata": {
    "colab": {
      "name": "Untitled7.ipynb",
      "provenance": [],
      "authorship_tag": "ABX9TyOqNhEZ5aoU6vt9/BBAdOM5",
      "include_colab_link": true
    },
    "kernelspec": {
      "name": "python3",
      "display_name": "Python 3"
    },
    "accelerator": "GPU"
  },
  "cells": [
    {
      "cell_type": "markdown",
      "metadata": {
        "id": "view-in-github",
        "colab_type": "text"
      },
      "source": [
        "<a href=\"https://colab.research.google.com/github/hackdavid/prediction_classification/blob/master/prediction.ipynb\" target=\"_parent\"><img src=\"https://colab.research.google.com/assets/colab-badge.svg\" alt=\"Open In Colab\"/></a>"
      ]
    },
    {
      "cell_type": "code",
      "metadata": {
        "id": "nHlvuAwIdJT7",
        "colab_type": "code",
        "colab": {}
      },
      "source": [
        ""
      ],
      "execution_count": 0,
      "outputs": []
    },
    {
      "cell_type": "markdown",
      "metadata": {
        "id": "BnH4Rz3fdZvl",
        "colab_type": "text"
      },
      "source": [
        "# New Section"
      ]
    },
    {
      "cell_type": "code",
      "metadata": {
        "id": "iYQxtckcdmMA",
        "colab_type": "code",
        "colab": {}
      },
      "source": [
        "import tensorflow as tf\n",
        "from tensorflow import keras\n",
        "from tensorflow.keras import layers\n",
        "\n",
        "from keras.models import load_model\n",
        "from keras.preprocessing import image\n",
        "model = load_model('model_1.h5', custom_objects={'softmax_v2': tf.nn.softmax})\n",
        "#classifier.compile(loss='sparse_categorical_crossentropy', optimizer='adam', metrics=['accuracy'])\n",
        "\n"
      ],
      "execution_count": 0,
      "outputs": []
    },
    {
      "cell_type": "code",
      "metadata": {
        "id": "Dt62NbRLiTJ9",
        "colab_type": "code",
        "colab": {}
      },
      "source": [
        "custom_objects = {\"weibull_loglik_discrete\": weibull_loglik_discrete,\"activate\":activate})\n"
      ],
      "execution_count": 0,
      "outputs": []
    },
    {
      "cell_type": "code",
      "metadata": {
        "id": "yp-Fvdh8hF-M",
        "colab_type": "code",
        "colab": {
          "base_uri": "https://localhost:8080/",
          "height": 34
        },
        "outputId": "c8b7d976-e23b-4b06-cd01-f64b144db326"
      },
      "source": [
        "from keras.preprocessing import image\n",
        "import numpy \n",
        "import numpy as np\n",
        "image_path=\"‪6.png\"\n",
        "img_height=28\n",
        "img_width=28\n",
        "test_image= image.load_img('5.png', target_size = (img_width, img_height))\n",
        "#test_image = test_image[:,:,0]\n",
        "test_image=np.mean(test_image, -1)\n",
        "test_image = image.img_to_array(test_image)\n",
        "test_image = numpy.expand_dims(test_image, axis = 0)\n",
        "test_image = test_image.reshape(1,img_width, img_height,-1)\n",
        "result = model.predict(test_image)\n",
        "print(np.argmax(result,axis=1))\n"
      ],
      "execution_count": 38,
      "outputs": [
        {
          "output_type": "stream",
          "text": [
            "[2]\n"
          ],
          "name": "stdout"
        }
      ]
    }
  ]
}